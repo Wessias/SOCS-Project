{
 "cells": [
  {
   "cell_type": "markdown",
   "metadata": {},
   "source": [
    " # Left to do Friday\n",
    "\n",
    " - Stop simulation when less than 2 particles are left\n",
    "\n",
    " - Use one door and adjust width of door (10 simulations per door, large radius)\n",
    "\n",
    " - Use one door and adjust door sight (10 simulations per door, large radius)\n",
    "\n",
    " - Use one door and one size and adjust the number of particles (10 simulations per door, large radius)\n",
    "\n",
    " - Number of doors (on different positions), play around with other things.\n",
    "\n",
    " - Plot the graphs in some nice way"
   ]
  },
  {
   "cell_type": "code",
   "execution_count": null,
   "metadata": {},
   "outputs": [],
   "source": [
    "from main import run_simulation, door\n",
    "import numpy as np\n",
    "import matplotlib.pyplot as plt\n",
    "import pandas as pd\n",
    "\n",
    "n_itterations = 100000"
   ]
  },
  {
   "cell_type": "code",
   "execution_count": null,
   "metadata": {},
   "outputs": [],
   "source": [
    "\n",
    "def vary_door_size(size_list, sim_per_size):\n",
    "    n_particles = 100\n",
    "    board_size = 50  # [m]\n",
    "    particle_vision = 3 # [m]\n",
    "    vision = 1000\n",
    "    delta_t = 0.1\n",
    "    particle_size = np.random.uniform(0.3,0.45, n_particles)\n",
    "    time_list = []\n",
    "\n",
    "    for size in size_list:\n",
    "        doors = [\n",
    "            door(np.array([0, -board_size/2]), size, vision, \"horizontal\")\n",
    "        ]\n",
    "\n",
    "        for i in range(sim_per_size):\n",
    "            time_size = 0\n",
    "            positions, v, time, _ = run_simulation(n_particles, particle_size, board_size, particle_vision, n_itterations, delta_t, doors)\n",
    "            time_size += time\n",
    "\n",
    "        time_list.append(time_size/sim_per_size)\n",
    "\n",
    "    return time_list\n"
   ]
  },
  {
   "cell_type": "code",
   "execution_count": null,
   "metadata": {},
   "outputs": [],
   "source": [
    "min_size = 4\n",
    "max_size = 10\n",
    "n_sizes = 5\n",
    "size_list = np.linspace(min_size, max_size, n_sizes)\n",
    "\n",
    "sim_per_size = 2\n",
    "\n",
    "time_list = vary_door_size(size_list, sim_per_size)\n"
   ]
  },
  {
   "cell_type": "code",
   "execution_count": null,
   "metadata": {},
   "outputs": [],
   "source": [
    "print(time_list)\n",
    "plt.plot(size_list, time_list)"
   ]
  },
  {
   "cell_type": "code",
   "execution_count": null,
   "metadata": {},
   "outputs": [],
   "source": [
    "\n",
    "def vary_door_sight(size_list, sim_per_size):\n",
    "    n_particles = 100\n",
    "    board_size = 50  # [m]\n",
    "    particle_vision = 3 # [m]\n",
    "    delta_t = 0.1\n",
    "    particle_size = np.random.uniform(0.3,0.45, n_particles) #For independent runs probably should just implement this in init func\n",
    "\n",
    "   \n",
    "    \n",
    "    time_list = []\n",
    "\n",
    "    for size_radius in size_list:\n",
    "        print(\"Size \", round(size_radius,2))\n",
    "        doors = [\n",
    "            door(np.array([ -board_size/2, 0]), 1, size_radius, \"vertical\")\n",
    "        ]\n",
    "\n",
    "\n",
    "        for i in range(sim_per_size):\n",
    "            time_size = 0\n",
    "            positions, v, time, escape_times = run_simulation(n_particles, particle_size, board_size, particle_vision, n_itterations, delta_t, doors)\n",
    "            time_size += time\n",
    "\n",
    "        time_list.append(time_size/sim_per_size)\n",
    "\n",
    "    return time_list\n"
   ]
  },
  {
   "cell_type": "code",
   "execution_count": null,
   "metadata": {},
   "outputs": [],
   "source": [
    "\n",
    "min_size = 5\n",
    "max_size = 30\n",
    "n_sizes = 10\n",
    "size_list = np.linspace(min_size, max_size, n_sizes)\n",
    "\n",
    "sim_per_size = 4\n",
    "\n",
    "time_list_varying_sight = vary_door_sight(size_list, sim_per_size)\n"
   ]
  },
  {
   "cell_type": "code",
   "execution_count": null,
   "metadata": {},
   "outputs": [],
   "source": [
    "print(time_list_varying_sight)\n",
    "print(size_list)\n",
    "plt.plot(size_list, time_list_varying_sight)\n",
    "\n"
   ]
  },
  {
   "cell_type": "code",
   "execution_count": null,
   "metadata": {},
   "outputs": [],
   "source": [
    "\n",
    "\n",
    "def vary_num_particles(size_list, sim_per_size):\n",
    "    board_size = 50  # [m]\n",
    "    particle_vision = 3 # [m]\n",
    "    delta_t = 0.1\n",
    "    door_sight = 1000\n",
    "    door_width = 1\n",
    "    \n",
    "   \n",
    "    \n",
    "    time_list = []\n",
    "\n",
    "    for num_part in size_list:\n",
    "        print(\"Particle amount: \", num_part)\n",
    "        doors = [\n",
    "            door(np.array([ -board_size/2, 0]), door_width, door_sight, \"vertical\")\n",
    "        ]\n",
    "\n",
    "\n",
    "        n_particles = num_part\n",
    "        for i in range(sim_per_size):\n",
    "            particle_size = np.random.uniform(0.3,0.45, n_particles) \n",
    "\n",
    "            time_size = 0\n",
    "            positions, v, time, escape_times = run_simulation(n_particles, particle_size, board_size, particle_vision, n_itterations, delta_t, doors)\n",
    "            time_size += time\n",
    "\n",
    "        time_list.append(time_size/sim_per_size)\n",
    "\n",
    "    return time_list"
   ]
  },
  {
   "cell_type": "code",
   "execution_count": null,
   "metadata": {},
   "outputs": [],
   "source": [
    "min_size = 10\n",
    "max_size = 300\n",
    "jump_size = 50\n",
    "size_list = np.arange(min_size, max_size, jump_size)\n",
    "\n",
    "\n",
    "sim_per_size = 1\n",
    "\n",
    "time_list_varying_num_particles = vary_num_particles(size_list, sim_per_size)\n"
   ]
  },
  {
   "cell_type": "code",
   "execution_count": null,
   "metadata": {},
   "outputs": [],
   "source": [
    "print(time_list_varying_num_particles)\n",
    "print(size_list)\n",
    "plt.plot(size_list, time_list_varying_num_particles)"
   ]
  }
 ],
 "metadata": {
  "language_info": {
   "codemirror_mode": {
    "name": "ipython",
    "version": 3
   },
   "file_extension": ".py",
   "mimetype": "text/x-python",
   "name": "python",
   "nbconvert_exporter": "python",
   "pygments_lexer": "ipython3",
   "version": 3
  }
 },
 "nbformat": 4,
 "nbformat_minor": 2
}
